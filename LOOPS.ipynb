{
 "cells": [
  {
   "cell_type": "code",
   "execution_count": 3,
   "id": "fad2c526",
   "metadata": {},
   "outputs": [],
   "source": [
    "a=10"
   ]
  },
  {
   "cell_type": "code",
   "execution_count": 6,
   "id": "030c2cd0",
   "metadata": {},
   "outputs": [
    {
     "name": "stdout",
     "output_type": "stream",
     "text": [
      "welcome\n"
     ]
    }
   ],
   "source": [
    "if a<15:\n",
    "    print('welcome')"
   ]
  },
  {
   "cell_type": "code",
   "execution_count": 5,
   "id": "ef1aba9b",
   "metadata": {},
   "outputs": [
    {
     "data": {
      "text/plain": [
       "True"
      ]
     },
     "execution_count": 5,
     "metadata": {},
     "output_type": "execute_result"
    }
   ],
   "source": [
    "a<15"
   ]
  },
  {
   "cell_type": "code",
   "execution_count": 7,
   "id": "774acc91",
   "metadata": {},
   "outputs": [],
   "source": [
    "if a<15:\n",
    "    pass"
   ]
  },
  {
   "cell_type": "code",
   "execution_count": 9,
   "id": "a4c2924f",
   "metadata": {},
   "outputs": [
    {
     "name": "stdout",
     "output_type": "stream",
     "text": [
      "invalid\n"
     ]
    }
   ],
   "source": [
    "if 24<15:\n",
    "    print('welcome')\n",
    "else:\n",
    "    print('invalid')"
   ]
  },
  {
   "cell_type": "code",
   "execution_count": 10,
   "id": "b2b7aa5b",
   "metadata": {},
   "outputs": [
    {
     "name": "stdout",
     "output_type": "stream",
     "text": [
      "statement is wrong\n"
     ]
    }
   ],
   "source": [
    "if 10<3:\n",
    "    print('10 is lesser than 3')\n",
    "else:\n",
    "    print('statement is wrong')\n",
    "    "
   ]
  },
  {
   "cell_type": "code",
   "execution_count": 12,
   "id": "235678c3",
   "metadata": {},
   "outputs": [
    {
     "name": "stdout",
     "output_type": "stream",
     "text": [
      "not enough\n"
     ]
    }
   ],
   "source": [
    "income=100\n",
    "if income<50:\n",
    "    print('i will b able to buy phone')\n",
    "elif income<70:\n",
    "    print('i will b abble to buy a car')\n",
    "elif income<90:\n",
    "    print('i will b able to buy a house')\n",
    "else:\n",
    "    print('not enough')"
   ]
  },
  {
   "cell_type": "code",
   "execution_count": 17,
   "id": "9c9e4f00",
   "metadata": {},
   "outputs": [
    {
     "name": "stdout",
     "output_type": "stream",
     "text": [
      "55\n",
      "i will b abble to buy a car\n"
     ]
    }
   ],
   "source": [
    "income=int(input())\n",
    "if income<50:\n",
    "    print('i will b able to buy phone')\n",
    "elif income<70:\n",
    "    print('i will b abble to buy a car')\n",
    "elif income<90:\n",
    "    print('i will b able to buy a house')\n",
    "else:\n",
    "    print('not enough')"
   ]
  },
  {
   "cell_type": "code",
   "execution_count": 23,
   "id": "54d13330",
   "metadata": {},
   "outputs": [
    {
     "name": "stdout",
     "output_type": "stream",
     "text": [
      "4565\n",
      "discount will b 228.25\n"
     ]
    }
   ],
   "source": [
    "Total_price=int(input())\n",
    "if Total_price>20000:\n",
    "    discount=Total_price*20/100\n",
    "    print('discount will b ',discount)\n",
    "elif Total_price<=7000:\n",
    "    discount=Total_price*5/100\n",
    "    print('discount will b',discount)\n",
    "else:\n",
    "    print('NO DISCOUNT')"
   ]
  },
  {
   "cell_type": "code",
   "execution_count": 1,
   "id": "8fbf411b",
   "metadata": {},
   "outputs": [
    {
     "name": "stdout",
     "output_type": "stream",
     "text": [
      "you will be able to get discount of 5%\n",
      "your amount to b paid after discount is 5664.0\n"
     ]
    }
   ],
   "source": [
    "\"\"\"coup=int(input('enter the coupon code:'))\"\"\"\n",
    "coup=\"ARSH20\"\n",
    "\n",
    "if coup=='ARSH20':\n",
    "    print('you will be able to get discount of 5%')\n",
    "    paid_amount=7080-7080*20/100\n",
    "    print('your amount to b paid after discount is',paid_amount)"
   ]
  },
  {
   "cell_type": "code",
   "execution_count": 2,
   "id": "e09c33b6",
   "metadata": {},
   "outputs": [
    {
     "name": "stdout",
     "output_type": "stream",
     "text": [
      "Enter the coupon code for discount:Arsh20\n",
      "Invalid coupon code\n"
     ]
    }
   ],
   "source": [
    "coup=input('Enter the coupon code for discount:')\n",
    "\n",
    "if coup=='ARSH20':\n",
    "    print('you will be able to get discount of 5%')\n",
    "    paid_amount=7080-7080*20/100\n",
    "    print('your amount to b paid after discount is',paid_amount)\n",
    "else:\n",
    "    print('Invalid coupon code')"
   ]
  },
  {
   "cell_type": "code",
   "execution_count": 4,
   "id": "cef47380",
   "metadata": {},
   "outputs": [
    {
     "data": {
      "text/plain": [
       "True"
      ]
     },
     "execution_count": 4,
     "metadata": {},
     "output_type": "execute_result"
    }
   ],
   "source": [
    "\"arshad\"==\"arshad\""
   ]
  },
  {
   "cell_type": "code",
   "execution_count": 5,
   "id": "486ef8d9",
   "metadata": {},
   "outputs": [
    {
     "name": "stdout",
     "output_type": "stream",
     "text": [
      "Enter the no of hours u study:3\n",
      "it will take 7 months of time to complete the transition\n"
     ]
    }
   ],
   "source": [
    "study_hour=int(input('Enter the no of hours u study:'))\n",
    "if study_hour==2:\n",
    "    print('it will take 8-9 months for ur transition')\n",
    "elif study_hour<=5 and study_hour>2:\n",
    "    print('it will take 7 months of time to complete the transition')\n",
    "elif study_hour>=6:\n",
    "    print('it will take 5-6 months of time for the transition')\n",
    "else:\n",
    "    print('ur transition needs more practice than this,please kindly improve')"
   ]
  },
  {
   "cell_type": "code",
   "execution_count": 10,
   "id": "abbfa553",
   "metadata": {},
   "outputs": [
    {
     "name": "stdout",
     "output_type": "stream",
     "text": [
      "Enter a string to start:oneneuronservices\n",
      "Enter the course:FSDS\n",
      "Enter the service:doubt\n",
      "NOTE:your demand will b fullfilled in 24 hours\n"
     ]
    }
   ],
   "source": [
    "s=input('Enter a string to start:')\n",
    "course=input('Enter the course:')\n",
    "service=input('Enter the service:')\n",
    "if s==\"oneneuron\":\n",
    "    if course==\"DSA\":\n",
    "        print(\"DSA is available\")\n",
    "    elif course==\"Blockchain\":\n",
    "        print('Not available,please raise ur demand')\n",
    "    elif course==\"FSDS\":\n",
    "        print('FSDS is available')\n",
    "    else:\n",
    "        print('the course u require is not available please raise ur demand')\n",
    "elif s==\"oneneuronservices\":\n",
    "    if service==\"courserequest\":\n",
    "        print('NOTE:thank you for ur cooperation and letting us know ur demand, it will b fullfilled in 60 days')\n",
    "    elif service==\"module\":\n",
    "        print('NOTE:your demand will b fullfilled in 30 days')\n",
    "    elif service==\"doubt\":\n",
    "        print('NOTE:your demand will b fullfilled in 24 hours')\n",
    "    else:\n",
    "        print('kindly provide your demand')\n",
    "else:\n",
    "    print('kindly connect with our team')\n",
    "        "
   ]
  },
  {
   "cell_type": "code",
   "execution_count": 11,
   "id": "08baeaeb",
   "metadata": {},
   "outputs": [
    {
     "name": "stdout",
     "output_type": "stream",
     "text": [
      "1\n",
      "2\n",
      "3\n",
      "4\n",
      "5\n",
      "6\n",
      "7\n"
     ]
    }
   ],
   "source": [
    "L=[1,2,3,4,5,6,7]\n",
    "for i in L:\n",
    "    print(i)"
   ]
  },
  {
   "cell_type": "code",
   "execution_count": 12,
   "id": "f4d54cbf",
   "metadata": {},
   "outputs": [
    {
     "name": "stdout",
     "output_type": "stream",
     "text": [
      "a\n",
      "r\n",
      "s\n",
      "h\n",
      "a\n",
      "d\n"
     ]
    }
   ],
   "source": [
    "a=\"arshad\"\n",
    "for i in a:\n",
    "    print(i)"
   ]
  },
  {
   "cell_type": "code",
   "execution_count": 13,
   "id": "b4356153",
   "metadata": {},
   "outputs": [
    {
     "name": "stdout",
     "output_type": "stream",
     "text": [
      "1\n",
      "2\n",
      "3\n",
      "4\n",
      "5\n",
      "6\n"
     ]
    }
   ],
   "source": [
    "t=(1,2,3,4,5,6)\n",
    "for i in t:\n",
    "    print(i)"
   ]
  },
  {
   "cell_type": "code",
   "execution_count": 14,
   "id": "ddb277ec",
   "metadata": {},
   "outputs": [],
   "source": [
    "l=[1,4,5,6.6,4+7j,\"arsh\"]"
   ]
  },
  {
   "cell_type": "code",
   "execution_count": 15,
   "id": "9a3dba23",
   "metadata": {},
   "outputs": [
    {
     "name": "stdout",
     "output_type": "stream",
     "text": [
      "1\n",
      "4\n",
      "5\n",
      "6.6\n",
      "(4+7j)\n",
      "arsh\n"
     ]
    }
   ],
   "source": [
    "for i in l:\n",
    "    print(i)"
   ]
  },
  {
   "cell_type": "code",
   "execution_count": 18,
   "id": "9f95de63",
   "metadata": {},
   "outputs": [
    {
     "name": "stdout",
     "output_type": "stream",
     "text": [
      "<class 'int'> type of 1\n",
      "<class 'int'> type of 4\n",
      "<class 'int'> type of 5\n",
      "<class 'float'> type of 6.6\n",
      "<class 'complex'> type of (4+7j)\n",
      "<class 'str'> type of arsh\n"
     ]
    }
   ],
   "source": [
    "for i in l:\n",
    "    print(type(i),\"type of\",i)"
   ]
  },
  {
   "cell_type": "code",
   "execution_count": 1,
   "id": "c9065095",
   "metadata": {},
   "outputs": [
    {
     "name": "stdout",
     "output_type": "stream",
     "text": [
      "3\n",
      "4\n",
      "7.6\n"
     ]
    }
   ],
   "source": [
    "l=[1,2,5.6]\n",
    "for i in l:\n",
    "    print(i+2)"
   ]
  },
  {
   "cell_type": "code",
   "execution_count": 4,
   "id": "1fb8c6e4",
   "metadata": {},
   "outputs": [],
   "source": [
    "l=[1,2,5.6]\n",
    "L=[]\n",
    "for i in l:\n",
    "    L.append(i+2)"
   ]
  },
  {
   "cell_type": "code",
   "execution_count": 5,
   "id": "8d0d39e3",
   "metadata": {},
   "outputs": [
    {
     "data": {
      "text/plain": [
       "[3, 4, 7.6]"
      ]
     },
     "execution_count": 5,
     "metadata": {},
     "output_type": "execute_result"
    }
   ],
   "source": [
    "L"
   ]
  },
  {
   "cell_type": "code",
   "execution_count": 2,
   "id": "1c8dbcae",
   "metadata": {},
   "outputs": [],
   "source": [
    "l=[4,56,76,23,'arsh',6+7j,[5,7,8,9]]"
   ]
  },
  {
   "cell_type": "code",
   "execution_count": 7,
   "id": "837c1f41",
   "metadata": {},
   "outputs": [
    {
     "name": "stdout",
     "output_type": "stream",
     "text": [
      "4\n",
      "56\n",
      "76\n",
      "23\n"
     ]
    },
    {
     "ename": "ValueError",
     "evalue": "invalid literal for int() with base 10: 'arsh'",
     "output_type": "error",
     "traceback": [
      "\u001b[1;31m---------------------------------------------------------------------------\u001b[0m",
      "\u001b[1;31mValueError\u001b[0m                                Traceback (most recent call last)",
      "\u001b[1;32mC:\\Users\\MOHAMM~1\\AppData\\Local\\Temp/ipykernel_14984/2808371685.py\u001b[0m in \u001b[0;36m<module>\u001b[1;34m\u001b[0m\n\u001b[0;32m      1\u001b[0m \u001b[1;32mfor\u001b[0m \u001b[0mi\u001b[0m \u001b[1;32min\u001b[0m \u001b[0ml\u001b[0m\u001b[1;33m:\u001b[0m\u001b[1;33m\u001b[0m\u001b[1;33m\u001b[0m\u001b[0m\n\u001b[1;32m----> 2\u001b[1;33m     \u001b[0mprint\u001b[0m\u001b[1;33m(\u001b[0m\u001b[0mint\u001b[0m\u001b[1;33m(\u001b[0m\u001b[0mi\u001b[0m\u001b[1;33m)\u001b[0m\u001b[1;33m)\u001b[0m\u001b[1;33m\u001b[0m\u001b[1;33m\u001b[0m\u001b[0m\n\u001b[0m",
      "\u001b[1;31mValueError\u001b[0m: invalid literal for int() with base 10: 'arsh'"
     ]
    }
   ],
   "source": [
    "for i in l:\n",
    "    print(int(i))"
   ]
  },
  {
   "cell_type": "code",
   "execution_count": 8,
   "id": "13018d1c",
   "metadata": {},
   "outputs": [
    {
     "name": "stdout",
     "output_type": "stream",
     "text": [
      "4\n",
      "56\n",
      "76\n",
      "23\n"
     ]
    }
   ],
   "source": [
    "for i in l:\n",
    "    if type(i)==int:\n",
    "        print(i)"
   ]
  },
  {
   "cell_type": "code",
   "execution_count": 8,
   "id": "f4e47577",
   "metadata": {},
   "outputs": [
    {
     "name": "stdout",
     "output_type": "stream",
     "text": [
      "4\n",
      "56\n",
      "76\n",
      "23\n",
      "5\n",
      "7\n",
      "8\n",
      "9\n"
     ]
    }
   ],
   "source": [
    "for i in l:\n",
    "    if type(i)==int:\n",
    "        print(i)\n",
    "    elif type(i)==list:\n",
    "        for j in i:\n",
    "            if type(j)==int:\n",
    "                print(j)"
   ]
  },
  {
   "cell_type": "code",
   "execution_count": 2,
   "id": "707a2946",
   "metadata": {},
   "outputs": [],
   "source": [
    "l=[2,45,78,12,'arshad',6+9j,[2,6,8,9,'ayub']]"
   ]
  },
  {
   "cell_type": "code",
   "execution_count": 14,
   "id": "28ecdb34",
   "metadata": {},
   "outputs": [
    {
     "name": "stdout",
     "output_type": "stream",
     "text": [
      "index of  2 0\n",
      "index of  45 1\n",
      "index of  78 2\n",
      "index of  12 3\n",
      "index of  arshad 4\n",
      "index of  (6+9j) 5\n",
      "index of  [2, 6, 8, 9, 'ayub'] 6\n"
     ]
    }
   ],
   "source": [
    "for i in l:\n",
    "    index=l.index(i)\n",
    "    print('index of ',i,index)"
   ]
  },
  {
   "cell_type": "code",
   "execution_count": 15,
   "id": "7a5ed056",
   "metadata": {},
   "outputs": [
    {
     "name": "stdout",
     "output_type": "stream",
     "text": [
      "arshad\n",
      "ayub\n"
     ]
    }
   ],
   "source": [
    "\n",
    "for i in l:\n",
    "    if type(i)==str:\n",
    "        print(i)\n",
    "    elif type(i)==list:\n",
    "        for j in i:\n",
    "            if type(j)==str:\n",
    "                print(j)\n",
    "               \n",
    "        "
   ]
  },
  {
   "cell_type": "code",
   "execution_count": 5,
   "id": "c55dbdbb",
   "metadata": {},
   "outputs": [
    {
     "data": {
      "text/plain": [
       "[2, 45, 78, 12, 'arshad', (6+9j), [2, 6, 8, 9, 'ayub']]"
      ]
     },
     "execution_count": 5,
     "metadata": {},
     "output_type": "execute_result"
    }
   ],
   "source": [
    "l"
   ]
  },
  {
   "cell_type": "code",
   "execution_count": 11,
   "id": "88004d2d",
   "metadata": {},
   "outputs": [
    {
     "name": "stdout",
     "output_type": "stream",
     "text": [
      "4\n",
      "2025\n",
      "6084\n",
      "144\n",
      "4\n",
      "36\n",
      "64\n",
      "81\n"
     ]
    }
   ],
   "source": [
    "\n",
    "for i in l:\n",
    "    if type(i)==int:\n",
    "        print(i*i)\n",
    "    elif type(i)==list:\n",
    "        for j in i:\n",
    "            if type(j)==int:\n",
    "                print(j*j)"
   ]
  },
  {
   "cell_type": "code",
   "execution_count": 12,
   "id": "b3164eed",
   "metadata": {},
   "outputs": [
    {
     "data": {
      "text/plain": [
       "range(0, 4)"
      ]
     },
     "execution_count": 12,
     "metadata": {},
     "output_type": "execute_result"
    }
   ],
   "source": [
    "range(4)"
   ]
  },
  {
   "cell_type": "code",
   "execution_count": 13,
   "id": "ab2c477a",
   "metadata": {},
   "outputs": [
    {
     "name": "stdout",
     "output_type": "stream",
     "text": [
      "index 0 for an element is 2\n",
      "index 1 for an element is 45\n",
      "index 2 for an element is 78\n",
      "index 3 for an element is 12\n",
      "index 4 for an element is arshad\n",
      "index 5 for an element is (6+9j)\n",
      "index 6 for an element is [2, 6, 8, 9, 'ayub']\n"
     ]
    }
   ],
   "source": [
    "for i in range(len(l)):\n",
    "    print('index',i,'for an element is',l[i])\n",
    "    "
   ]
  },
  {
   "cell_type": "code",
   "execution_count": 14,
   "id": "5289ab0d",
   "metadata": {},
   "outputs": [
    {
     "name": "stdout",
     "output_type": "stream",
     "text": [
      "(0, 2)\n",
      "(1, 45)\n",
      "(2, 78)\n",
      "(3, 12)\n",
      "(4, 'arshad')\n",
      "(5, (6+9j))\n",
      "(6, [2, 6, 8, 9, 'ayub'])\n"
     ]
    }
   ],
   "source": [
    "for i in enumerate(l):\n",
    "    print(i)"
   ]
  },
  {
   "cell_type": "code",
   "execution_count": 20,
   "id": "70039c0a",
   "metadata": {},
   "outputs": [
    {
     "name": "stdout",
     "output_type": "stream",
     "text": [
      "['a', 'r', 's', 'h', 'a', 'd']\n"
     ]
    }
   ],
   "source": [
    "for i in l:\n",
    "    if type(i)==str:\n",
    "        l1=[]\n",
    "        for j in i:\n",
    "            l1.append(j)\n",
    "        print(l1)"
   ]
  },
  {
   "cell_type": "code",
   "execution_count": 22,
   "id": "44d5cdb2",
   "metadata": {},
   "outputs": [],
   "source": [
    "l2=[]\n",
    "for i in l:\n",
    "    if type(i)==int:\n",
    "        l2.append(i)"
   ]
  },
  {
   "cell_type": "code",
   "execution_count": 23,
   "id": "8a179d3a",
   "metadata": {},
   "outputs": [
    {
     "data": {
      "text/plain": [
       "[2, 45, 78, 12]"
      ]
     },
     "execution_count": 23,
     "metadata": {},
     "output_type": "execute_result"
    }
   ],
   "source": [
    "l2"
   ]
  },
  {
   "cell_type": "code",
   "execution_count": null,
   "id": "a361cad0",
   "metadata": {},
   "outputs": [],
   "source": []
  }
 ],
 "metadata": {
  "kernelspec": {
   "display_name": "Python 3 (ipykernel)",
   "language": "python",
   "name": "python3"
  },
  "language_info": {
   "codemirror_mode": {
    "name": "ipython",
    "version": 3
   },
   "file_extension": ".py",
   "mimetype": "text/x-python",
   "name": "python",
   "nbconvert_exporter": "python",
   "pygments_lexer": "ipython3",
   "version": "3.9.7"
  }
 },
 "nbformat": 4,
 "nbformat_minor": 5
}
